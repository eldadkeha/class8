{
 "cells": [
  {
   "cell_type": "code",
   "execution_count": 1,
   "id": "e975f1b0-c8d5-44a6-8c23-783f85f33da4",
   "metadata": {},
   "outputs": [
    {
     "data": {
      "application/vnd.jupyter.widget-view+json": {
       "model_id": "8e9e3b51273f49099f33bab2c7bda892",
       "version_major": 2,
       "version_minor": 0
      },
      "text/plain": [
       "interactive(children=(FloatSlider(value=72.0, description='Mean of the Population (Last 10 years)', layout=Lay…"
      ]
     },
     "metadata": {},
     "output_type": "display_data"
    }
   ],
   "source": [
    "# nbi:hide_in \n",
    "import pandas as pd\n",
    "import seaborn as sns\n",
    "import numpy as np\n",
    "import matplotlib.pyplot as plt\n",
    "from ipywidgets import interact, interactive, fixed, interact_manual, Layout\n",
    "import ipywidgets as widgets\n",
    "import random\n",
    "from random import choices\n",
    "from scipy import stats\n",
    "from IPython.display import HTML\n",
    "from scipy.stats import norm\n",
    "from termcolor import colored\n",
    "import math\n",
    "\n",
    "data = {'Grades': [54,55,56,57,58,59,59,60,61,61,61,62,62,63,63,63,64,64,64,67,67,67,67,68,68,68,69,68,69,70,69,\n",
    "                 70,70,70,70,70,70,70,70,70,70,70,70,70,71,71,71,71,71,71,72,72,72,72,73,73,73,73,73,73,73,73,73,73,73,73,73,74,74,74,74,74,74,75,75,76,78,\n",
    "                 92,93,95,100] \n",
    "        }\n",
    "\n",
    "FTI = data['Grades']\n",
    "\n",
    "sns.set(font=\"serif\", style = \"white\")\n",
    "\n",
    "def mean_boot(meanA = 72.00, stdA = 8.00,alpha = 0.05, Sample_Size = 81):  \n",
    "      np.random.seed(24)\n",
    "      meanFTN = np.zeros(4000)\n",
    "      SampledFTN=np.random.normal(meanA, stdA, 869)\n",
    "      for i in range(4000):\n",
    "          SampledFTN1= np.random.choice(SampledFTN, Sample_Size)\n",
    "          meanFTN[i]=np.mean(SampledFTN1)\n",
    "          typeI = np.percentile(meanFTN,alpha*100)\n",
    "\n",
    "      plt.figure(figsize=(10.5,5))\n",
    "      sns.histplot(meanFTN,bins=26,alpha=0.7, color=\"deepskyblue\", stat = \"density\", kde = True);\n",
    "      sns.kdeplot(meanFTN,color=\"silver\", linewidth = 6);\n",
    "      plt.xlabel(\"Grades in Statistics\", size = 18)\n",
    "      plt.ylabel(\"Density\", size =18)\n",
    "      plt.yticks(size =14)\n",
    "      plt.xticks(size =14)\n",
    "      plt.axvline(x=np.mean(FTI), color='navy', linestyle='-', linewidth = 4, label = \"Grades Mean this year = \" + str(np.round(np.mean(FTI), decimals = 2)));\n",
    "      plt.axvline(x=np.mean(meanFTN), color='silver', linestyle='-', linewidth = 4, label = \"Mean of The sampling distribution = \" + str(np.round(np.mean(meanFTN), decimals = 2)));\n",
    "      plt.axvline(x=np.mean(meanFTN), color='black', linestyle='--', linewidth = 0, label = \"Standart Deviation of the Population = \" + str(stdA));\n",
    "      plt.axvline(x=np.mean(SampledFTN), color='silver', linestyle='-', linewidth = 0, label = \" Sample Size= 81\");\n",
    "      plt.axvline(x=np.mean(meanFTN), color='black', linestyle='-', linewidth = 0, label = \"Standart Error =\" + str(np.round(np.std(meanFTN), decimals = 2)));\n",
    "      plt.axvline(x=typeI, ymin=0,ymax=5, color='black', linestyle='--', label = chr(945)+\" Criterion\");\n",
    "      plt.legend(fontsize = 12, loc = 2)\n",
    "      plt.xticks(np.arange(65, 80, step=5))\n",
    "\n",
    "style = {'description_width': 'initial'}    \n",
    "int_widget = interactive(mean_boot,meanA=widgets.FloatSlider(value=72,min=55,max=85,step=0.5,description = \"Mean of the Population (Last 10 years)\",readout_format='.1f',style = style),\n",
    "                         stdA=widgets.FloatSlider(value=8,min=1,max=20,step=0.01,description = \"Standart Deviation of the Population (Last 10 years)\",readout_format='.2f',style = style),\n",
    "                         alpha=widgets.FloatSlider(value=0.05,min=0.001,max=0.05,step=0.001,description = chr(945) + \" Criterion\",readout_format='.3f',style = style))\n",
    "\n",
    "int_widget.children[0].layout = Layout(width='700px')\n",
    "int_widget.children[1].layout = Layout(width='700px')\n",
    "int_widget.children[2].layout = Layout(width='700px')\n",
    "display(int_widget)\n",
    "\n",
    "\n",
    "\n"
   ]
  },
  {
   "cell_type": "code",
   "execution_count": null,
   "id": "3389e758-b2c3-4d1d-97dc-2315ed9c6855",
   "metadata": {},
   "outputs": [],
   "source": []
  }
 ],
 "metadata": {
  "kernelspec": {
   "display_name": "Python 3 (ipykernel)",
   "language": "python",
   "name": "python3"
  },
  "language_info": {
   "codemirror_mode": {
    "name": "ipython",
    "version": 3
   },
   "file_extension": ".py",
   "mimetype": "text/x-python",
   "name": "python",
   "nbconvert_exporter": "python",
   "pygments_lexer": "ipython3",
   "version": "3.7.12"
  }
 },
 "nbformat": 4,
 "nbformat_minor": 5
}
