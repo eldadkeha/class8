{
 "cells": [
  {
   "cell_type": "code",
   "execution_count": null,
   "id": "c39ffea1-481c-49bd-8f8d-e9d096e43499",
   "metadata": {},
   "outputs": [],
   "source": [
    "# nbi:hide_in \n",
    "from ipywidgets import interact_manual\n",
    "from scipy import stats\n",
    "import matplotlib.pyplot as plt\n",
    "import numpy as np\n",
    "import warnings\n",
    "warnings.filterwarnings(\"ignore\")\n",
    "\n",
    "def Z_test(Z_score):\n",
    "  df, Z_score = int(100000), float(Z_score)\n",
    "  pval = stats.t.sf((Z_score), 100000)\n",
    "  print(f\"Z-Value= {Z_score}\\np-value= {round(pval,10)}\")\n",
    "  bound = max(4, Z_score+1.5)\n",
    "\n",
    "inter = interact_manual(Z_test, Z_score=\"0\");\n",
    "inter.widget.children[1].style.button_color=\"steelblue\";\n",
    "inter.widget.children[1].description=\"Calculate P-value\";\n",
    "inter.widget.children[1].style.font_weight = \"bold\" ;\n",
    "inter.widget.children[1].style.font_weight = \"bold\" ;\n",
    "\n"
   ]
  }
 ],
 "metadata": {
  "kernelspec": {
   "display_name": "Python 3 (ipykernel)",
   "language": "python",
   "name": "python3"
  },
  "language_info": {
   "codemirror_mode": {
    "name": "ipython",
    "version": 3
   },
   "file_extension": ".py",
   "mimetype": "text/x-python",
   "name": "python",
   "nbconvert_exporter": "python",
   "pygments_lexer": "ipython3",
   "version": "3.7.12"
  }
 },
 "nbformat": 4,
 "nbformat_minor": 5
}
