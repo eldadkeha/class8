{
 "cells": [
  {
   "cell_type": "code",
   "execution_count": 1,
   "id": "1d2d2b5c-95d7-414d-9ac6-8e3f68f54daa",
   "metadata": {},
   "outputs": [
    {
     "data": {
      "application/vnd.jupyter.widget-view+json": {
       "model_id": "333d3d3eb884430ab02f722d916e5718",
       "version_major": 2,
       "version_minor": 0
      },
      "text/plain": [
       "interactive(children=(FloatSlider(value=72.0, description='Mean of the Population (Last 10 years)', layout=Lay…"
      ]
     },
     "metadata": {},
     "output_type": "display_data"
    }
   ],
   "source": [
    "# nbi:hide_in \n",
    "import pandas as pd\n",
    "import seaborn as sns\n",
    "import numpy as np\n",
    "import matplotlib.pyplot as plt\n",
    "from ipywidgets import interact, interactive, fixed, interact_manual, Layout\n",
    "import ipywidgets as widgets\n",
    "import random\n",
    "from random import choices\n",
    "from scipy import stats\n",
    "from IPython.display import HTML\n",
    "from scipy.stats import norm\n",
    "from termcolor import colored\n",
    "import math\n",
    "\n",
    "sns.set(font=\"serif\", style = \"white\")\n",
    "\n",
    "def mean_boot(meanA = 72.00, stdA = 8.00,alpha = 0.05, Sample_Size = 81):  \n",
    "      np.random.seed(24)\n",
    "      meanFTN = np.zeros(4000)\n",
    "      SampledFTN=np.random.normal(meanA, stdA, 869)\n",
    "      for i in range(4000):\n",
    "          SampledFTN1= np.random.choice(SampledFTN, Sample_Size)\n",
    "          meanFTN[i]=np.mean(SampledFTN1)\n",
    "          typeI = np.percentile(meanFTN,alpha*100)\n",
    "\n",
    "      plt.figure(figsize=(10.5,5))\n",
    "      sns.histplot(meanFTN,bins=26,alpha=0.7, color=\"deepskyblue\", stat = \"density\", kde = True);\n",
    "      sns.kdeplot(meanFTN,color=\"silver\", linewidth = 6);\n",
    "      plt.xlabel(\"Grades in Statistics\", size = 18)\n",
    "      plt.ylabel(\"Density\", size =18)\n",
    "      plt.yticks(size =14)\n",
    "      plt.xticks(size =14)\n",
    "      plt.axvline(x=np.mean(meanFTN), color='silver', linestyle='-', linewidth = 4, label = \"Mean of The sampling distribution = \" + str(np.round(np.mean(meanFTN), decimals = 2)));\n",
    "      plt.axvline(x=np.mean(meanFTN), color='black', linestyle='--', linewidth = 0, label = \"Standart Deviation of the Population = \" + str(stdA));\n",
    "      plt.axvline(x=np.mean(SampledFTN), color='silver', linestyle='-', linewidth = 0, label = \" Sample Size= 81\");\n",
    "      plt.axvline(x=np.mean(meanFTN), color='black', linestyle='-', linewidth = 0, label = \"Standart Error =\" + str(np.round(np.std(meanFTN), decimals = 2)));\n",
    "      plt.legend(fontsize = 12, loc = 2)\n",
    "      plt.xticks(np.arange(65, 80, step=1))\n",
    "\n",
    "style = {'description_width': 'initial'}    \n",
    "int_widget = interactive(mean_boot,meanA=widgets.FloatSlider(value=72,min=55,max=85,step=0.5,description = \"Mean of the Population (Last 10 years)\",readout_format='.1f',style = style),\n",
    "                         stdA=widgets.FloatSlider(value=8,min=1,max=20,step=0.01,description = \"Standart Deviation of the Population (Last 10 years)\",readout_format='.2f',style = style),\n",
    "                         alpha=widgets.FloatSlider(value=0.05,min=0.001,max=0.05,step=0.001,description = chr(945) + \" Criterion\",readout_format='.3f',style = style))\n",
    "\n",
    "int_widget.children[0].layout = Layout(width='700px')\n",
    "int_widget.children[1].layout = Layout(width='700px')\n",
    "int_widget.children[2].layout = Layout(width='700px')\n",
    "display(int_widget)\n",
    "\n",
    "\n",
    "\n"
   ]
  },
  {
   "cell_type": "code",
   "execution_count": null,
   "id": "0c207187-9e9c-4891-886a-365e1559b3a7",
   "metadata": {},
   "outputs": [],
   "source": []
  }
 ],
 "metadata": {
  "kernelspec": {
   "display_name": "Python 3 (ipykernel)",
   "language": "python",
   "name": "python3"
  },
  "language_info": {
   "codemirror_mode": {
    "name": "ipython",
    "version": 3
   },
   "file_extension": ".py",
   "mimetype": "text/x-python",
   "name": "python",
   "nbconvert_exporter": "python",
   "pygments_lexer": "ipython3",
   "version": "3.7.12"
  }
 },
 "nbformat": 4,
 "nbformat_minor": 5
}
