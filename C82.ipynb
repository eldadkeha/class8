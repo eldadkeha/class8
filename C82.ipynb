{
 "cells": [
  {
   "cell_type": "code",
   "execution_count": 1,
   "id": "072abbbe-ef74-4b58-aab3-2f48e5748d79",
   "metadata": {},
   "outputs": [
    {
     "data": {
      "application/vnd.jupyter.widget-view+json": {
       "model_id": "3bb1e6b6bcbe4ad594b453d8ff26dce1",
       "version_major": 2,
       "version_minor": 0
      },
      "text/plain": [
       "interactive(children=(FloatSlider(value=0.05, description='α Criterion', layout=Layout(width='700px'), max=1.0…"
      ]
     },
     "metadata": {},
     "output_type": "display_data"
    }
   ],
   "source": [
    "# nbi:hide_in \n",
    "import pandas as pd\n",
    "import seaborn as sns\n",
    "import numpy as np\n",
    "import matplotlib.pyplot as plt\n",
    "from ipywidgets import interact, interactive, fixed, interact_manual, Layout\n",
    "import ipywidgets as widgets\n",
    "import random\n",
    "from scipy import stats\n",
    "from IPython.display import HTML\n",
    "from scipy.stats import norm\n",
    "from termcolor import colored\n",
    "import math\n",
    "\n",
    "def changeAlphaII(Beta=0.05):\n",
    "  ######### change parameters below to play with the distributions\n",
    "  meanA = 80\n",
    "  stdA = 10\n",
    "  meanB = 100\n",
    "  stdB=10\n",
    "  #########\n",
    "  np.random.seed(14)\n",
    "  distA = np.random.normal(meanA, stdA, 10000) ##null hypothesis distribution\n",
    "  distB = np.random.normal(meanB, stdB, 10000) \n",
    "  typeII = np.percentile(distA,100-Beta*100) #the x value of the 95th percentile in distribution 1, under which we will get unsignificant result\n",
    "  Beta2 = (typeII-meanB)/stdB\n",
    "  def beta3(z_score):\n",
    "    return .5 * (math.erf(z_score / 2 ** .5) + 1)\n",
    "    ######\n",
    "  # print(typeII);\n",
    "  plt.figure(figsize=(12,6))\n",
    "\n",
    "  x_min = 30.0;x_max = 150\n",
    "  mean = np.mean(distA) ; std = np.std(distA)\n",
    "  xA = np.linspace(x_min, x_max, 1000)\n",
    "  yA = stats.norm.pdf(xA,mean,std)\n",
    "  plt.plot(xA, yA, color = \"peru\", linewidth=6.0)\n",
    "  x_min = 30.0;x_max = 150\n",
    "  mean = np.mean(distB) ; std = np.std(distB)\n",
    "  xB = np.linspace(x_min, x_max, 1000)\n",
    "  yB = stats.norm.pdf(xB,mean,std)\n",
    "  plt.plot(xB,yB, color = \"firebrick\", linewidth=6.0)\n",
    "  pdf_typeII = stats.norm.pdf(typeII,np.mean(distB),np.std(distB))\n",
    "  plt.ylim=(0,max(yB)*1.1)\n",
    "\n",
    "  yAB = [yA,yB]\n",
    "\n",
    "  # print(len(yAB[0]))\n",
    "  yMin = np.array([min(yAB[0][i],yAB[1][i]) for i in range(len(yAB[0]))])\n",
    "  plt.fill_between(xB[xB<=typeII],yB[xB<=typeII], facecolor='coral', alpha=0.5)\n",
    "  plt.text(95,0.015,np.round(beta3(Beta2)*100,decimals = 1),horizontalalignment='left', size = 32, color = \"firebrick\", backgroundcolor = \"oldlace\");\n",
    "  plt.ylabel('Probability Density', size = 22, color = \"red\");\n",
    "  plt.axvline(x=typeII, ymin=0,ymax=(5), color='black', linestyle='--');\n",
    "  plt.text(72,0.033,'$H_0$\\n We Concluded H0 is true \\n And therfore no effect \\n(Wrong Decision)',horizontalalignment='right', size = 14, color = \"peru\");\n",
    "  plt.text(108,0.033,'$H_1$\\n There is an effect \\n       (True State)',horizontalalignment='left', size = 14, color = \"brown\");\n",
    "  plt.title(\"Type 2 Error\", size = 30, color = \"coral\");\n",
    "  print(colored(\"Type 2 Error (Beta) = \" + str(np.round(beta3(Beta2)*100,decimals = 1)) + \"%\", \"yellow\", attrs=[\"bold\", \"underline\"]))\n",
    "  plt.tick_params(left = False, right = False,labelbottom = False, bottom = False)\n",
    "style = {'description_width': 'initial'}\n",
    "int_widget = interactive(changeAlphaII,Beta=widgets.FloatSlider(value=0.05,min=0,max=1,step=0.001,description=chr(945) + \" Criterion\",readout_format='.3f',style = style))\n",
    "int_widget.children[0].layout = Layout(width='700px')\n",
    "display(int_widget)\n"
   ]
  },
  {
   "cell_type": "code",
   "execution_count": null,
   "id": "754aa4b2-713d-4574-a94e-e6ebeed7fe88",
   "metadata": {},
   "outputs": [],
   "source": []
  }
 ],
 "metadata": {
  "kernelspec": {
   "display_name": "Python 3 (ipykernel)",
   "language": "python",
   "name": "python3"
  },
  "language_info": {
   "codemirror_mode": {
    "name": "ipython",
    "version": 3
   },
   "file_extension": ".py",
   "mimetype": "text/x-python",
   "name": "python",
   "nbconvert_exporter": "python",
   "pygments_lexer": "ipython3",
   "version": "3.7.12"
  }
 },
 "nbformat": 4,
 "nbformat_minor": 5
}
