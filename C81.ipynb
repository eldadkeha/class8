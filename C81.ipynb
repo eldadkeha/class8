{
 "cells": [
  {
   "cell_type": "code",
   "execution_count": 1,
   "id": "0a51815a-5fc8-4963-92c2-6598cb5db558",
   "metadata": {},
   "outputs": [
    {
     "data": {
      "application/vnd.jupyter.widget-view+json": {
       "model_id": "ea51ac63aa5d427cacc93836f397bab6",
       "version_major": 2,
       "version_minor": 0
      },
      "text/plain": [
       "interactive(children=(FloatSlider(value=0.05, description='α Criterion', layout=Layout(width='700px'), max=1.0…"
      ]
     },
     "metadata": {},
     "output_type": "display_data"
    }
   ],
   "source": [
    "# nbi:hide_in \n",
    "import pandas as pd\n",
    "import seaborn as sns\n",
    "import numpy as np\n",
    "import matplotlib.pyplot as plt\n",
    "from ipywidgets import interact, interactive, fixed, interact_manual, Layout\n",
    "import ipywidgets as widgets\n",
    "import random\n",
    "from scipy import stats\n",
    "from IPython.display import HTML\n",
    "from scipy.stats import norm\n",
    "from termcolor import colored\n",
    "import math\n",
    "\n",
    "sns.set(font=\"serif\", style = \"white\")\n",
    "\n",
    "def changeAlpha(Alpha_Type1=0.05): \n",
    "  ######### change parameters below to play with the distributions\n",
    "  meanA = 80\n",
    "  stdA = 10\n",
    "  meanB = 100\n",
    "  stdB=10\n",
    "  #########\n",
    "  np.random.seed(5)\n",
    "  distA = np.random.normal(meanA, stdA, 200)\n",
    "  distB = np.random.normal(meanB, stdB, 200)\n",
    "  typeI = np.percentile(distA,100-Alpha_Type1*100) #the x value of the 95th percentile in distribution 1, under which we will get unsignificant result\n",
    "  ######\n",
    "  plt.figure(figsize=(12,6))\n",
    "  ##plot the two distributions and create fit\n",
    "  x_min = 30.0;x_max = 150\n",
    "  mean = np.mean(distA) ; std = np.std(distA)\n",
    "  xA = np.linspace(x_min, x_max, 1000)\n",
    "  yA = stats.norm.pdf(xA,mean,std)\n",
    "  plt.plot(xA, yA, color = \"peru\", linewidth=6.0)\n",
    "\n",
    "  x_min = 30.0;x_max = 150\n",
    "  mean = np.mean(distB) ; std = np.std(distB)\n",
    "  xB = np.linspace(x_min, x_max, 1000)\n",
    "  yB = stats.norm.pdf(xB,mean,std)\n",
    "  plt.plot(xB,yB, color = \"firebrick\", linewidth=6.0)\n",
    "  pdf_typeI = stats.norm.pdf(typeI,np.mean(distA),np.std(distA)) ##pdf value of the critical x score\n",
    "  plt.fill_between(xA[xA>=typeI], yA[xA>=typeI], facecolor='darkorange', alpha=0.5)\n",
    "  plt.xlabel('');\n",
    "  plt.ylabel('Probability Density', size = 22, color = \"red\");\n",
    "  #plt.ylim(0,max(yB)*1.1)\n",
    "  plt.axvline(x=typeI, ymin=0,ymax=pdf_typeI/(1.1*max(yB)), color='black', linestyle='--');\n",
    "  plt.text(74,0.035,'$H_0$\\n No effect \\n(True state)',horizontalalignment='right', size = 14, color = \"peru\");\n",
    "  plt.text(108,0.031,'$H_1$\\n   p-value<0.05 \\n We Concluded that \\n There is an effect\\n(Wrong conclusion)',horizontalalignment='left', size = 14, color = \"brown\");\n",
    "  plt.title(\"Type 1 Error\", size = 30, color = \"darkorange\");\n",
    "  plt.tick_params(left = False, right = False,labelbottom = False, bottom = False)\n",
    "  print(colored(\"Type 1 Error (Alpha) = \" + str(Alpha_Type1), \"red\", attrs=[\"bold\", \"underline\"]))\n",
    "\n",
    "int_widget = interactive(changeAlpha,Alpha_Type1=widgets.FloatSlider(value=0.05,min=0,max=1,step=0.001,description= chr(945) + \" Criterion\",readout_format='.3f'))\n",
    "int_widget.children[0].layout = Layout(width='700px')\n",
    "display(int_widget)\n",
    "\n",
    "\n",
    "\n"
   ]
  },
  {
   "cell_type": "code",
   "execution_count": null,
   "id": "194ee57f-9d40-4418-90b0-7f885038f9c9",
   "metadata": {},
   "outputs": [],
   "source": []
  }
 ],
 "metadata": {
  "kernelspec": {
   "display_name": "Python 3 (ipykernel)",
   "language": "python",
   "name": "python3"
  },
  "language_info": {
   "codemirror_mode": {
    "name": "ipython",
    "version": 3
   },
   "file_extension": ".py",
   "mimetype": "text/x-python",
   "name": "python",
   "nbconvert_exporter": "python",
   "pygments_lexer": "ipython3",
   "version": "3.7.12"
  }
 },
 "nbformat": 4,
 "nbformat_minor": 5
}
